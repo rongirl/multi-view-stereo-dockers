{
 "cells": [
  {
   "cell_type": "markdown",
   "metadata": {},
   "source": [
    "- @Description: Juputer notebook for visualizing depth maps.\n",
    "- @Author: Zhe Zhang (doublez@stu.pku.edu.cn)\n",
    "- @Affiliation: Peking University (PKU)\n",
    "- @LastEditDate: 2023-09-07"
   ]
  },
  {
   "cell_type": "code",
   "execution_count": null,
   "metadata": {
    "ExecutionIndicator": {
     "show": true
    },
    "tags": []
   },
   "outputs": [],
   "source": [
    "import sys, os\n",
    "sys.path.append('../')\n",
    "import numpy as np\n",
    "import matplotlib.pyplot as plt\n",
    "import re\n",
    "\n",
    "\n",
    "def read_pfm(filename):\n",
    "    file = open(filename, 'rb')\n",
    "    color = None\n",
    "    width = None\n",
    "    height = None\n",
    "    scale = None\n",
    "    endian = None\n",
    "\n",
    "    header = file.readline().decode('utf-8').rstrip()\n",
    "    if header == 'PF':\n",
    "        color = True\n",
    "    elif header == 'Pf':\n",
    "        color = False\n",
    "    else:\n",
    "        raise Exception('Not a PFM file.')\n",
    "\n",
    "    dim_match = re.match(r'^(\\d+)\\s(\\d+)\\s$', file.readline().decode('utf-8'))\n",
    "    if dim_match:\n",
    "        width, height = map(int, dim_match.groups())\n",
    "    else:\n",
    "        raise Exception('Malformed PFM header.')\n",
    "\n",
    "    scale = float(file.readline().rstrip())\n",
    "    if scale < 0:  # little-endian\n",
    "        endian = '<'\n",
    "        scale = -scale\n",
    "    else:\n",
    "        endian = '>'  # big-endian\n",
    "\n",
    "    data = np.fromfile(file, endian + 'f')\n",
    "    shape = (height, width, 3) if color else (height, width)\n",
    "\n",
    "    data = np.reshape(data, shape)\n",
    "    data = np.flipud(data)\n",
    "    file.close()\n",
    "    return data, scale\n",
    "\n",
    "\n",
    "def read_depth(filename):\n",
    "    depth = read_pfm(filename)[0]\n",
    "    return np.array(depth, dtype=np.float32)\n",
    "\n",
    "\n",
    "assert False"
   ]
  },
  {
   "cell_type": "markdown",
   "metadata": {},
   "source": [
    "## DTU"
   ]
  },
  {
   "cell_type": "code",
   "execution_count": null,
   "metadata": {
    "ExecutionIndicator": {
     "show": true
    },
    "tags": []
   },
   "outputs": [],
   "source": [
    "exp_name = 'dtu/geomvsnet'\n",
    "depth_name = \"00000009.pfm\"\n",
    "\n",
    "scans = os.listdir(os.path.join(exp_name))\n",
    "scans = list(filter(lambda x: x.startswith(\"scan\"), scans))\n",
    "scans.sort(key=lambda x: int(x[4:]))\n",
    "for scan in scans:\n",
    "    depth_filename = os.path.join(exp_name, scan, \"depth_est\", depth_name)\n",
    "    if not os.path.exists(depth_filename): continue\n",
    "    depth = read_depth(depth_filename)\n",
    "\n",
    "    confidence_filename = os.path.join(exp_name, scan, \"confidence\", depth_name)\n",
    "    confidence = read_depth(confidence_filename)\n",
    "\n",
    "    print(scan, depth_name)\n",
    "\n",
    "    plt.figure(figsize=(12, 12))\n",
    "    plt.subplot(1, 2, 1)\n",
    "    plt.xticks([]), plt.yticks([]), plt.axis('off')\n",
    "    plt.imshow(depth, 'viridis',  vmin=500, vmax=830)\n",
    "\n",
    "    plt.subplot(1, 2, 2)\n",
    "    plt.xticks([]), plt.yticks([]), plt.axis('off')\n",
    "    plt.imshow(confidence, 'viridis')\n",
    "    plt.show()"
   ]
  },
  {
   "cell_type": "markdown",
   "metadata": {},
   "source": [
    "## TNT"
   ]
  },
  {
   "cell_type": "code",
   "execution_count": null,
   "metadata": {
    "tags": []
   },
   "outputs": [],
   "source": [
    "exp_name = './tnt/blend/geomvsnet/'\n",
    "depth_name = \"00000009.pfm\"\n",
    "\n",
    "with open(\"../datasets/lists/tnt/intermediate.txt\") as f:\n",
    "    scans_i = [line.rstrip() for line in f.readlines()]\n",
    "\n",
    "with open(\"../datasets/lists/tnt/advanced.txt\") as f:\n",
    "    scans_a = [line.rstrip() for line in f.readlines()]\n",
    "\n",
    "scans = scans_i + scans_a\n",
    "\n",
    "for scan in scans:\n",
    "\n",
    "    depth_filename = os.path.join(exp_name, scan, \"depth_est\", depth_name)\n",
    "    if not os.path.exists(depth_filename): continue\n",
    "    depth = read_depth(depth_filename)\n",
    "\n",
    "    print(scan, depth_name, depth.shape)\n",
    "\n",
    "    plt.figure(figsize=(12, 12))\n",
    "    plt.xticks([]), plt.yticks([]), plt.axis('off')\n",
    "    plt.imshow(depth, 'viridis', vmin=0, vmax=10)\n",
    "\n",
    "    plt.show()"
   ]
  }
 ],
 "metadata": {
  "kernelspec": {
   "display_name": "Python 3",
   "language": "python",
   "name": "python3"
  },
  "language_info": {
   "codemirror_mode": {
    "name": "ipython",
    "version": 3
   },
   "file_extension": ".py",
   "mimetype": "text/x-python",
   "name": "python",
   "nbconvert_exporter": "python",
   "pygments_lexer": "ipython3",
   "version": "3.6.12"
  },
  "vscode": {
   "interpreter": {
    "hash": "d253918f84404206ad3cf9c22ee3709ef6e34cbea610b0ac9787033d60da5e03"
   }
  }
 },
 "nbformat": 4,
 "nbformat_minor": 4
}
